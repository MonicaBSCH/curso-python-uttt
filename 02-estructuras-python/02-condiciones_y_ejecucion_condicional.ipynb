{
 "cells": [
  {
   "cell_type": "markdown",
   "metadata": {},
   "source": [
    "# Condiciones y ejecución concicional"
   ]
  },
  {
   "cell_type": "markdown",
   "metadata": {},
   "source": [
    "## Ejercicio 1 condicional simple (if)"
   ]
  },
  {
   "cell_type": "code",
   "execution_count": 1,
   "metadata": {},
   "outputs": [
    {
     "name": "stdout",
     "output_type": "stream",
     "text": [
      "El numero  10  es mayor a  20\n",
      "Fin del programa\n"
     ]
    }
   ],
   "source": [
    "numero1 = 10\n",
    "numero2 = 20\n",
    "if numero1<numero2:\n",
    "    print('El numero ',numero1,' es mayor a ',numero2)\n",
    "\n",
    "print('Fin del programa')"
   ]
  },
  {
   "cell_type": "code",
   "execution_count": 6,
   "metadata": {},
   "outputs": [
    {
     "name": "stdout",
     "output_type": "stream",
     "text": [
      "El número 1.0 es menor que le número 8.0\n"
     ]
    }
   ],
   "source": [
    "numero1 = float(input('introduce el primer número: '))\n",
    "numero2 = float(input('Introduce el segundo número: '))\n",
    "\n",
    "if numero1>numero2:\n",
    "    print(f\"El número {numero1} es mayor que le número {numero2}\")\n",
    "else:\n",
    "    print(f\"El número {numero1} es menor que le número {numero2}\")"
   ]
  },
  {
   "cell_type": "code",
   "execution_count": 8,
   "metadata": {},
   "outputs": [
    {
     "name": "stdout",
     "output_type": "stream",
     "text": [
      "El promedio es:  4.0\n",
      "Reprobado\n"
     ]
    }
   ],
   "source": [
    "numero1 = float(input('introduce el primer número: '))\n",
    "numero2 = float(input('Introduce el segundo número: '))\n",
    "numero3 = float(input('introduce el tercer número: '))\n",
    "\n",
    "prom=(numero1+numero2+numero3)/3\n",
    "print(f\"El promedio es: \",prom)\n",
    "\n",
    "if prom>=7 :\n",
    "    print(\"Aprobado\")\n",
    "else:\n",
    "    print(\"Reprobado\")"
   ]
  },
  {
   "cell_type": "code",
   "execution_count": 10,
   "metadata": {},
   "outputs": [
    {
     "name": "stdout",
     "output_type": "stream",
     "text": [
      "Nombre: Hola\n",
      "Calificación 1: 8.0\n",
      "Calificación 2: 9.0\n",
      "Calificacion 3: 7.0\n",
      "Promedio: 8.0\n",
      "Fin del Programa\n"
     ]
    }
   ],
   "source": [
    "nombre = input(\"Introduce el nombre: \")\n",
    "numero1 = float(input('introduce la primer calificación: '))\n",
    "numero2 = float(input('Introduce la segunda calificación: '))\n",
    "numero3 = float(input('introduce la tercera calificación: '))\n",
    "\n",
    "prom=(numero1+numero2+numero3)/3\n",
    "\n",
    "if prom>=7 :\n",
    "    print(f\"Nombre: {nombre}\\nCalificación 1: {numero1}\\nCalificación 2: {numero2}\\nCalificacion 3: {numero3}\\nPromedio: {prom}\")\n",
    "\n",
    "print(\"Fin del Programa\")"
   ]
  },
  {
   "cell_type": "markdown",
   "metadata": {},
   "source": [
    "## Ejercicio2 (if-else)"
   ]
  },
  {
   "cell_type": "code",
   "execution_count": 12,
   "metadata": {},
   "outputs": [
    {
     "name": "stdout",
     "output_type": "stream",
     "text": [
      "El número 100.0 es mayor que le número 5.0\n"
     ]
    }
   ],
   "source": [
    "numero1 = float(input('introduce el primer número: '))\n",
    "numero2 = float(input('Introduce el segundo número: '))\n",
    "\n",
    "if numero1>numero2 :\n",
    "    resultado = f\"El número {numero1} es mayor que le número {numero2}\"\n",
    "else:\n",
    "    resultado = f\"El número {numero2} es mayor que le número {numero1}\"\n",
    "\n",
    "print(resultado)"
   ]
  },
  {
   "cell_type": "code",
   "execution_count": 15,
   "metadata": {},
   "outputs": [
    {
     "name": "stdout",
     "output_type": "stream",
     "text": [
      "El número 7.0 es impar\n",
      "Bonito día\n"
     ]
    }
   ],
   "source": [
    "numero1 = float(input('introduce el número: '))\n",
    "res = numero1%2\n",
    "\n",
    "if res!=1 :\n",
    "    print(f\"El número {numero1} es par\")\n",
    "else :\n",
    "    print(f\"El número {numero1} es impar\")\n",
    "\n",
    "print(\"Bonito día\")"
   ]
  },
  {
   "cell_type": "markdown",
   "metadata": {},
   "source": [
    "## Estructura de control múltiple"
   ]
  },
  {
   "cell_type": "code",
   "execution_count": 18,
   "metadata": {},
   "outputs": [
    {
     "name": "stdout",
     "output_type": "stream",
     "text": [
      "No tienes un grado válido\n"
     ]
    }
   ],
   "source": [
    "grado = input('Introduce tu grado')\n",
    "grado = grado.upper()\n",
    "\n",
    "if grado == 'PRIMARIA' :\n",
    "    print('Eres de primaria')\n",
    "elif grado=='SECUNDARIA':\n",
    "    print('Eres de secundaria')\n",
    "elif grado == 'PREPARATORIA' :\n",
    "    print('Eres de preparatoria')\n",
    "else:\n",
    "    print('No tienes un grado válido')"
   ]
  },
  {
   "cell_type": "code",
   "execution_count": 21,
   "metadata": {},
   "outputs": [
    {
     "name": "stdout",
     "output_type": "stream",
     "text": [
      "Opción inválida\n"
     ]
    }
   ],
   "source": [
    "numero1 = float(input('introduce el primer número: '))\n",
    "numero2 = float(input('Introduce el segundo número: '))\n",
    "\n",
    "eleccion = float(input('Introduce el número de la opción deseada:\\n\\n1. Suma\\n2. Resta\\n3. Multiplicación'))\n",
    "\n",
    "if eleccion==1 :\n",
    "    print(f\"La suma de {numero1} + {numero2} es {numero1+numero2}\")\n",
    "elif eleccion==2 :\n",
    "    print(f\"La resta de {numero1} - {numero2} es {numero1-numero2}\")\n",
    "elif eleccion==3 :\n",
    "    print(f\"La multiplicación de {numero1} * {numero2} es {numero1*numero2}\")\n",
    "else :\n",
    "    print('Opción inválida')"
   ]
  }
 ],
 "metadata": {
  "kernelspec": {
   "display_name": "Cursopythonuttt",
   "language": "python",
   "name": "python3"
  },
  "language_info": {
   "codemirror_mode": {
    "name": "ipython",
    "version": 3
   },
   "file_extension": ".py",
   "mimetype": "text/x-python",
   "name": "python",
   "nbconvert_exporter": "python",
   "pygments_lexer": "ipython3",
   "version": "3.12.4"
  }
 },
 "nbformat": 4,
 "nbformat_minor": 2
}
