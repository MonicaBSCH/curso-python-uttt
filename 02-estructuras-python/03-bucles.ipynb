{
 "cells": [
  {
   "cell_type": "markdown",
   "metadata": {},
   "source": [
    "# Bucles o Ciclos en Python\n",
    "## Bucles en el Código con While"
   ]
  },
  {
   "cell_type": "code",
   "execution_count": 1,
   "metadata": {},
   "outputs": [
    {
     "name": "stdout",
     "output_type": "stream",
     "text": [
      "Hola Python\n",
      "Hola Python\n",
      "Hola Python\n",
      "Hola Python\n",
      "Hola Python\n"
     ]
    }
   ],
   "source": [
    "i = 1\n",
    "while i<=5 :\n",
    "    print('Hola Python')\n",
    "    i = i+1"
   ]
  },
  {
   "cell_type": "code",
   "execution_count": 2,
   "metadata": {},
   "outputs": [
    {
     "name": "stdout",
     "output_type": "stream",
     "text": [
      "Número: 1\n",
      "Número: 2\n",
      "Número: 3\n",
      "Número: 4\n",
      "Número: 5\n",
      "Número: 6\n",
      "Número: 7\n",
      "Número: 8\n",
      "Número: 9\n",
      "Número: 10\n"
     ]
    }
   ],
   "source": [
    "i = 1\n",
    "\n",
    "while i<=10 :\n",
    "    print(f'Número: {i}')\n",
    "    i=i+1"
   ]
  },
  {
   "cell_type": "code",
   "execution_count": 3,
   "metadata": {},
   "outputs": [
    {
     "name": "stdout",
     "output_type": "stream",
     "text": [
      "1 Número 6\n",
      "2 Número 6\n",
      "3 Número 6\n",
      "4 Número 6\n",
      "5 Número 6\n",
      "6 Número 6\n",
      "7 Número 6\n",
      "8 Número 6\n",
      "9 Número 6\n",
      "10 Número 6\n"
     ]
    }
   ],
   "source": [
    "numero1 = int(input('introduce el número entero: '))\n",
    "i = 1\n",
    "\n",
    "while i<=10 :\n",
    "    print(f'{i} Número {numero1+1}')\n",
    "    i=i+1"
   ]
  }
 ],
 "metadata": {
  "kernelspec": {
   "display_name": "Cursopythonuttt",
   "language": "python",
   "name": "python3"
  },
  "language_info": {
   "codemirror_mode": {
    "name": "ipython",
    "version": 3
   },
   "file_extension": ".py",
   "mimetype": "text/x-python",
   "name": "python",
   "nbconvert_exporter": "python",
   "pygments_lexer": "ipython3",
   "version": "3.12.4"
  }
 },
 "nbformat": 4,
 "nbformat_minor": 2
}
