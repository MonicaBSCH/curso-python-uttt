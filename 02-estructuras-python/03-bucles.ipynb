{
 "cells": [
  {
   "cell_type": "markdown",
   "metadata": {},
   "source": [
    "# Bucles o Ciclos en Python\n",
    "## Bucles en el Código con While"
   ]
  },
  {
   "cell_type": "code",
   "execution_count": 1,
   "metadata": {},
   "outputs": [
    {
     "name": "stdout",
     "output_type": "stream",
     "text": [
      "Hola Python\n",
      "Hola Python\n",
      "Hola Python\n",
      "Hola Python\n",
      "Hola Python\n"
     ]
    }
   ],
   "source": [
    "i = 1\n",
    "while i<=5 :\n",
    "    print('Hola Python')\n",
    "    i = i+1"
   ]
  },
  {
   "cell_type": "code",
   "execution_count": 2,
   "metadata": {},
   "outputs": [
    {
     "name": "stdout",
     "output_type": "stream",
     "text": [
      "Número: 1\n",
      "Número: 2\n",
      "Número: 3\n",
      "Número: 4\n",
      "Número: 5\n",
      "Número: 6\n",
      "Número: 7\n",
      "Número: 8\n",
      "Número: 9\n",
      "Número: 10\n"
     ]
    }
   ],
   "source": [
    "i = 1\n",
    "\n",
    "while i<=10 :\n",
    "    print(f'Número: {i}')\n",
    "    i=i+1"
   ]
  },
  {
   "cell_type": "code",
   "execution_count": 3,
   "metadata": {},
   "outputs": [
    {
     "name": "stdout",
     "output_type": "stream",
     "text": [
      "1 Número 6\n",
      "2 Número 6\n",
      "3 Número 6\n",
      "4 Número 6\n",
      "5 Número 6\n",
      "6 Número 6\n",
      "7 Número 6\n",
      "8 Número 6\n",
      "9 Número 6\n",
      "10 Número 6\n"
     ]
    }
   ],
   "source": [
    "numero1 = int(input('introduce el número entero: '))\n",
    "i = 1\n",
    "\n",
    "while i<=10 :\n",
    "    print(f'{i} Número {numero1+1}')\n",
    "    i=i+1"
   ]
  },
  {
   "cell_type": "markdown",
   "metadata": {},
   "source": [
    "# Bucles en tu código for\n",
    "\n",
    "Otro tipo de bucle disponible en Python proviene de la observación de que a veces es más importante contar los \"giros o vueltas\" del bucle que verificar las condiciones."
   ]
  },
  {
   "cell_type": "code",
   "execution_count": 1,
   "metadata": {},
   "outputs": [],
   "source": [
    "for i in range(100) :\n",
    "    #en este lugar se codifica\n",
    "    pass "
   ]
  },
  {
   "cell_type": "code",
   "execution_count": 3,
   "metadata": {},
   "outputs": [
    {
     "name": "stdout",
     "output_type": "stream",
     "text": [
      "0\n",
      "1\n",
      "2\n",
      "3\n",
      "4\n",
      "5\n",
      "6\n",
      "7\n",
      "8\n",
      "9\n",
      "10\n"
     ]
    }
   ],
   "source": [
    "for i in range(11) :\n",
    "    print(i)"
   ]
  },
  {
   "cell_type": "markdown",
   "metadata": {},
   "source": [
    "El bucle se ha ejecutado diez veces (es el argumento de la función range() El valor de la última variable de control es 9 (no 10, ya que comienza desde 0, no desde 1))"
   ]
  },
  {
   "cell_type": "code",
   "execution_count": 4,
   "metadata": {},
   "outputs": [
    {
     "name": "stdout",
     "output_type": "stream",
     "text": [
      "2\n",
      "3\n",
      "4\n",
      "5\n",
      "6\n",
      "7\n"
     ]
    }
   ],
   "source": [
    "for i in range(2,8) :\n",
    "    print(i)"
   ]
  },
  {
   "cell_type": "code",
   "execution_count": 6,
   "metadata": {},
   "outputs": [
    {
     "name": "stdout",
     "output_type": "stream",
     "text": [
      "1 * 1 = 1\n",
      "1 * 2 = 2\n",
      "1 * 3 = 3\n",
      "1 * 4 = 4\n",
      "1 * 5 = 5\n",
      "1 * 6 = 6\n",
      "1 * 7 = 7\n",
      "1 * 8 = 8\n",
      "1 * 9 = 9\n",
      "1 * 10 = 10\n",
      "\n",
      "\n",
      "2 * 1 = 2\n",
      "2 * 2 = 4\n",
      "2 * 3 = 6\n",
      "2 * 4 = 8\n",
      "2 * 5 = 10\n",
      "2 * 6 = 12\n",
      "2 * 7 = 14\n",
      "2 * 8 = 16\n",
      "2 * 9 = 18\n",
      "2 * 10 = 20\n",
      "\n",
      "\n",
      "3 * 1 = 3\n",
      "3 * 2 = 6\n",
      "3 * 3 = 9\n",
      "3 * 4 = 12\n",
      "3 * 5 = 15\n",
      "3 * 6 = 18\n",
      "3 * 7 = 21\n",
      "3 * 8 = 24\n",
      "3 * 9 = 27\n",
      "3 * 10 = 30\n",
      "\n",
      "\n"
     ]
    }
   ],
   "source": [
    "for i in range(1,4):\n",
    "    for j in range(1,11):\n",
    "        print(f\"{i} * {j} = {i*j}\")\n",
    "    print(\"\\n\")"
   ]
  },
  {
   "cell_type": "code",
   "execution_count": 8,
   "metadata": {},
   "outputs": [
    {
     "name": "stdout",
     "output_type": "stream",
     "text": [
      "1 * 1 = 1\n",
      "1 * 2 = 2\n",
      "1 * 3 = 3\n",
      "1 * 4 = 4\n",
      "1 * 5 = 5\n",
      "1 * 6 = 6\n",
      "1 * 7 = 7\n",
      "1 * 8 = 8\n",
      "1 * 9 = 9\n",
      "1 * 10 = 10\n",
      "\n",
      "\n",
      "2 * 1 = 2\n",
      "2 * 2 = 4\n",
      "2 * 3 = 6\n",
      "2 * 4 = 8\n",
      "2 * 5 = 10\n",
      "2 * 6 = 12\n",
      "2 * 7 = 14\n",
      "2 * 8 = 16\n",
      "2 * 9 = 18\n",
      "2 * 10 = 20\n",
      "\n",
      "\n",
      "3 * 1 = 3\n",
      "3 * 2 = 6\n",
      "3 * 3 = 9\n",
      "3 * 4 = 12\n",
      "3 * 5 = 15\n",
      "3 * 6 = 18\n",
      "3 * 7 = 21\n",
      "3 * 8 = 24\n",
      "3 * 9 = 27\n",
      "3 * 10 = 30\n",
      "\n",
      "\n"
     ]
    }
   ],
   "source": [
    "j = 1\n",
    "for i in range(1,4) :\n",
    "    while j<11 :\n",
    "        print(f\"{i} * {j} = {i*j}\")\n",
    "        j+=1\n",
    "    j=1\n",
    "    print(\"\\n\")"
   ]
  },
  {
   "cell_type": "code",
   "execution_count": 10,
   "metadata": {},
   "outputs": [
    {
     "name": "stdout",
     "output_type": "stream",
     "text": [
      "La instrucción break\n",
      "Dentro del bucle\n",
      "Dentro del bucle\n",
      "Dentro del bucle\n",
      "Dentro del bucle\n",
      "Fuera del bucle\n"
     ]
    }
   ],
   "source": [
    "print('La instrucción break')\n",
    "for i in range(1,5):\n",
    "    if j == 3 :\n",
    "        break\n",
    "    print('Dentro del bucle')\n",
    "print('Fuera del bucle')"
   ]
  },
  {
   "cell_type": "code",
   "execution_count": 9,
   "metadata": {},
   "outputs": [
    {
     "name": "stdout",
     "output_type": "stream",
     "text": [
      "La instrucción break\n",
      "Dentro del bucle 1\n",
      "Dentro del bucle 2\n",
      "Dentro del bucle 3\n",
      "Dentro del bucle 4\n",
      "Fuera del bucle\n"
     ]
    }
   ],
   "source": [
    "print('La instrucción break')\n",
    "for i in range(1,5):\n",
    "    if j == 3 :\n",
    "        continue\n",
    "    print(f'Dentro del bucle {i}')\n",
    "print('Fuera del bucle')"
   ]
  }
 ],
 "metadata": {
  "kernelspec": {
   "display_name": "Cursopythonuttt",
   "language": "python",
   "name": "python3"
  },
  "language_info": {
   "codemirror_mode": {
    "name": "ipython",
    "version": 3
   },
   "file_extension": ".py",
   "mimetype": "text/x-python",
   "name": "python",
   "nbconvert_exporter": "python",
   "pygments_lexer": "ipython3",
   "version": "3.12.4"
  }
 },
 "nbformat": 4,
 "nbformat_minor": 2
}
