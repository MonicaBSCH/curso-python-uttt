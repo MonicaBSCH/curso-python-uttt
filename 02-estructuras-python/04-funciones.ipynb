{
 "cells": [
  {
   "cell_type": "code",
   "execution_count": 2,
   "metadata": {},
   "outputs": [],
   "source": [
    "def imprimir_nombre():\n",
    "    print(\"Mi nombre es: Mónica\")"
   ]
  },
  {
   "cell_type": "code",
   "execution_count": 3,
   "metadata": {},
   "outputs": [
    {
     "name": "stdout",
     "output_type": "stream",
     "text": [
      "Mi nombre es: Mónica\n"
     ]
    }
   ],
   "source": [
    "imprimir_nombre()"
   ]
  },
  {
   "cell_type": "code",
   "execution_count": 4,
   "metadata": {},
   "outputs": [],
   "source": [
    "def imprimir_nombre_2(nombre):\n",
    "    print(f'Mi nombre es {nombre}')"
   ]
  },
  {
   "cell_type": "code",
   "execution_count": 5,
   "metadata": {},
   "outputs": [
    {
     "name": "stdout",
     "output_type": "stream",
     "text": [
      "Mi nombre es Mónica\n"
     ]
    }
   ],
   "source": [
    "imprimir_nombre_2('Mónica')"
   ]
  },
  {
   "cell_type": "code",
   "execution_count": 6,
   "metadata": {},
   "outputs": [
    {
     "name": "stdout",
     "output_type": "stream",
     "text": [
      "Mi nombre es Hola\n"
     ]
    }
   ],
   "source": [
    "imprimir_nombre_2('Hola')"
   ]
  },
  {
   "cell_type": "code",
   "execution_count": 7,
   "metadata": {},
   "outputs": [],
   "source": [
    "def sumar(numero1,numero2):\n",
    "    print(f'La suma es {numero1+numero2}')"
   ]
  },
  {
   "cell_type": "code",
   "execution_count": 8,
   "metadata": {},
   "outputs": [
    {
     "name": "stdout",
     "output_type": "stream",
     "text": [
      "La suma es 14\n"
     ]
    }
   ],
   "source": [
    "numero1 = int(input('Introduce el primer número: '))\n",
    "numero2 = int(input('Introduce el segundo número: '))\n",
    "\n",
    "sumar(numero1, numero2)"
   ]
  },
  {
   "cell_type": "code",
   "execution_count": 23,
   "metadata": {},
   "outputs": [],
   "source": [
    "def calcular_serie(n):\n",
    "    r = 0.0\n",
    "    for i in range(1,(n+1)):\n",
    "        r+=1/i\n",
    "    return r"
   ]
  },
  {
   "cell_type": "code",
   "execution_count": 24,
   "metadata": {},
   "outputs": [
    {
     "name": "stdout",
     "output_type": "stream",
     "text": [
      "El resultado de la serie es 2.7178571428571425\n"
     ]
    }
   ],
   "source": [
    "n = int(input('Introduce el valor de n'))\n",
    "r = calcular_serie(n)\n",
    "print(f'El resultado de la serie es {r}')"
   ]
  },
  {
   "cell_type": "code",
   "execution_count": 16,
   "metadata": {},
   "outputs": [],
   "source": [
    "def calcular_factorial(n):\n",
    "    i = 1\n",
    "    fact=1\n",
    "    while i<=n:\n",
    "        fact*=i\n",
    "        i+=1\n",
    "    return fact"
   ]
  },
  {
   "cell_type": "code",
   "execution_count": 17,
   "metadata": {},
   "outputs": [
    {
     "name": "stdout",
     "output_type": "stream",
     "text": [
      "El resultado de la serie es 40320\n"
     ]
    }
   ],
   "source": [
    "n = int(input('Introduce el valor de n'))\n",
    "r = calcular_factorial(n)\n",
    "print(f'El resultado de la serie es {r}')"
   ]
  },
  {
   "cell_type": "code",
   "execution_count": 18,
   "metadata": {},
   "outputs": [],
   "source": [
    "def calcular_serie_fact(n):\n",
    "    r=0\n",
    "    for i in range(1,(n+1)):\n",
    "        r+=i/calcular_factorial(i)\n",
    "    return r"
   ]
  },
  {
   "cell_type": "code",
   "execution_count": 19,
   "metadata": {},
   "outputs": [
    {
     "data": {
      "text/plain": [
       "2.5"
      ]
     },
     "execution_count": 19,
     "metadata": {},
     "output_type": "execute_result"
    }
   ],
   "source": [
    "calcular_serie_fact(3)"
   ]
  }
 ],
 "metadata": {
  "kernelspec": {
   "display_name": "Cursopythonuttt",
   "language": "python",
   "name": "python3"
  },
  "language_info": {
   "codemirror_mode": {
    "name": "ipython",
    "version": 3
   },
   "file_extension": ".py",
   "mimetype": "text/x-python",
   "name": "python",
   "nbconvert_exporter": "python",
   "pygments_lexer": "ipython3",
   "version": "3.12.4"
  }
 },
 "nbformat": 4,
 "nbformat_minor": 2
}
