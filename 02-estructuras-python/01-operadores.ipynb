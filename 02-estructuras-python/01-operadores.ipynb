{
 "cells": [
  {
   "cell_type": "markdown",
   "metadata": {},
   "source": [
    "# Variables y Operadores\n",
    "\n",
    " 1. Variables\n",
    " 2. Operadores Aritméticos\n",
    " 3. Operadores Relacionales\n",
    " 4. Operadores Lógicos"
   ]
  },
  {
   "cell_type": "code",
   "execution_count": 2,
   "metadata": {},
   "outputs": [],
   "source": [
    "# Variables\n",
    "var1 = 4\n",
    "var2 = var1\n",
    "var3 = 5.6\n",
    "var4 = 'Hola'\n",
    "var5 = 'Hola Alumnos Smart'\n",
    "var6 = \"c\"\n",
    "var7 = '65'"
   ]
  },
  {
   "cell_type": "code",
   "execution_count": 4,
   "metadata": {},
   "outputs": [
    {
     "name": "stdout",
     "output_type": "stream",
     "text": [
      "Hola Hola Alumnos Smart Hola Alumnos Smart 65\n"
     ]
    }
   ],
   "source": [
    "print(var4,var5,var5,var7)"
   ]
  },
  {
   "cell_type": "code",
   "execution_count": 3,
   "metadata": {},
   "outputs": [
    {
     "data": {
      "text/plain": [
       "4"
      ]
     },
     "execution_count": 3,
     "metadata": {},
     "output_type": "execute_result"
    }
   ],
   "source": [
    "var1"
   ]
  },
  {
   "cell_type": "code",
   "execution_count": 5,
   "metadata": {},
   "outputs": [
    {
     "name": "stdout",
     "output_type": "stream",
     "text": [
      "El valor de la primera variable es:  4\n"
     ]
    }
   ],
   "source": [
    "print('El valor de la primera variable es: ',var1)"
   ]
  },
  {
   "cell_type": "code",
   "execution_count": 6,
   "metadata": {},
   "outputs": [
    {
     "name": "stdout",
     "output_type": "stream",
     "text": [
      "El valor de la variable es:  5.6\n"
     ]
    }
   ],
   "source": [
    "print('El valor de la variable es: ',var3)"
   ]
  },
  {
   "cell_type": "markdown",
   "metadata": {},
   "source": [
    "## Operadores aritméticos"
   ]
  },
  {
   "cell_type": "code",
   "execution_count": 7,
   "metadata": {},
   "outputs": [
    {
     "name": "stdout",
     "output_type": "stream",
     "text": [
      "La suma es  15\n"
     ]
    }
   ],
   "source": [
    "# Suma (+)\n",
    "valor_1 = 5\n",
    "valor_2 = 10\n",
    "suma = valor_1 + valor_2\n",
    "print('La suma es ',suma)"
   ]
  },
  {
   "cell_type": "code",
   "execution_count": 8,
   "metadata": {},
   "outputs": [
    {
     "name": "stdout",
     "output_type": "stream",
     "text": [
      "La resta es:  5\n"
     ]
    }
   ],
   "source": [
    "# Resta (-)\n",
    "valor_1 = 10\n",
    "valor_2 = 5\n",
    "resta = valor_1-valor_2\n",
    "print('La resta es: ',resta)"
   ]
  },
  {
   "cell_type": "code",
   "execution_count": 9,
   "metadata": {},
   "outputs": [
    {
     "name": "stdout",
     "output_type": "stream",
     "text": [
      "La multiplicación es:  2250\n"
     ]
    }
   ],
   "source": [
    "# Multiplicación (*)\n",
    "valor_1 = 45\n",
    "valor_2 = 50\n",
    "multi = valor_1*valor_2\n",
    "print('La multiplicación es: ',multi)"
   ]
  },
  {
   "cell_type": "code",
   "execution_count": 10,
   "metadata": {},
   "outputs": [
    {
     "name": "stdout",
     "output_type": "stream",
     "text": [
      "La división es:  0.2\n"
     ]
    }
   ],
   "source": [
    "# División (/)\n",
    "valor_1 = 1\n",
    "valor_2 = 5\n",
    "division = valor_1/valor_2\n",
    "print('La división es: ',division)"
   ]
  },
  {
   "cell_type": "code",
   "execution_count": 11,
   "metadata": {},
   "outputs": [
    {
     "name": "stdout",
     "output_type": "stream",
     "text": [
      "La división es:  0\n"
     ]
    }
   ],
   "source": [
    "#División entera (//)\n",
    "valor_1 = 1\n",
    "valor_2 = 5\n",
    "division_entera = valor_1//valor_2\n",
    "print('La división es: ',division_entera)"
   ]
  },
  {
   "cell_type": "code",
   "execution_count": 12,
   "metadata": {},
   "outputs": [
    {
     "name": "stdout",
     "output_type": "stream",
     "text": [
      "La potencia es:  25\n"
     ]
    }
   ],
   "source": [
    "# Potencia (**)\n",
    "valor_1 = 5\n",
    "valor_2 = 2\n",
    "potencia = valor_1**valor_2\n",
    "print('La potencia es: ',potencia)"
   ]
  },
  {
   "cell_type": "code",
   "execution_count": 13,
   "metadata": {},
   "outputs": [
    {
     "name": "stdout",
     "output_type": "stream",
     "text": [
      "El módulo es:  1\n"
     ]
    }
   ],
   "source": [
    "# Módulo (Residuo)(%)\n",
    "valor_1 = 11\n",
    "valor_2 = 2\n",
    "modulo = valor_1%valor_2\n",
    "print('El módulo es: ', modulo)"
   ]
  },
  {
   "cell_type": "markdown",
   "metadata": {},
   "source": [
    "## Expresiones"
   ]
  },
  {
   "cell_type": "code",
   "execution_count": 14,
   "metadata": {},
   "outputs": [
    {
     "data": {
      "text/plain": [
       "100.0"
      ]
     },
     "execution_count": 14,
     "metadata": {},
     "output_type": "execute_result"
    }
   ],
   "source": [
    "valor_1 = 10\n",
    "valor_2 = 20\n",
    "valor_3 = 4.5\n",
    "resultado = valor_1+valor_2*valor_3\n",
    "resultado"
   ]
  },
  {
   "cell_type": "code",
   "execution_count": 15,
   "metadata": {},
   "outputs": [
    {
     "data": {
      "text/plain": [
       "135.0"
      ]
     },
     "execution_count": 15,
     "metadata": {},
     "output_type": "execute_result"
    }
   ],
   "source": [
    "valor_1 = 10\n",
    "valor_2 = 20\n",
    "valor_3 = 4.5\n",
    "resultado = (valor_1+valor_2)*valor_3\n",
    "resultado"
   ]
  },
  {
   "cell_type": "code",
   "execution_count": 16,
   "metadata": {},
   "outputs": [
    {
     "data": {
      "text/plain": [
       "2.25"
      ]
     },
     "execution_count": 16,
     "metadata": {},
     "output_type": "execute_result"
    }
   ],
   "source": [
    "valor_1 = 10\n",
    "valor_2 = 20\n",
    "valor_3 = 4.5\n",
    "resultado = valor_1/valor_2*valor_3\n",
    "resultado"
   ]
  },
  {
   "cell_type": "markdown",
   "metadata": {},
   "source": [
    "## Operadores relacionales\n",
    "\n",
    "| Operador | Descripción 1 |\n",
    "| --- | --- |\n",
    "| < | Menor que |\n",
    "| > | Mayr que |\n",
    "| <= | Menor o igual que |\n",
    "| >= | Menor o igual que |\n",
    "| == | Igual que |\n",
    "| != | Diferente que |"
   ]
  },
  {
   "cell_type": "code",
   "execution_count": 17,
   "metadata": {},
   "outputs": [
    {
     "data": {
      "text/plain": [
       "True"
      ]
     },
     "execution_count": 17,
     "metadata": {},
     "output_type": "execute_result"
    }
   ],
   "source": [
    "resultado = 4>3\n",
    "resultado"
   ]
  },
  {
   "cell_type": "code",
   "execution_count": 19,
   "metadata": {},
   "outputs": [
    {
     "data": {
      "text/plain": [
       "False"
      ]
     },
     "execution_count": 19,
     "metadata": {},
     "output_type": "execute_result"
    }
   ],
   "source": [
    "valor_1 = 10\n",
    "valor_2 = 3\n",
    "resultado = valor_2 + 3 > valor_1\n",
    "resultado"
   ]
  },
  {
   "cell_type": "code",
   "execution_count": 20,
   "metadata": {},
   "outputs": [
    {
     "data": {
      "text/plain": [
       "False"
      ]
     },
     "execution_count": 20,
     "metadata": {},
     "output_type": "execute_result"
    }
   ],
   "source": [
    "valor_1 = 5\n",
    "valor_2 = 10\n",
    "valor_2 == valor_1"
   ]
  },
  {
   "cell_type": "code",
   "execution_count": 21,
   "metadata": {},
   "outputs": [
    {
     "data": {
      "text/plain": [
       "True"
      ]
     },
     "execution_count": 21,
     "metadata": {},
     "output_type": "execute_result"
    }
   ],
   "source": [
    "valor_1 != valor_2"
   ]
  },
  {
   "cell_type": "markdown",
   "metadata": {},
   "source": [
    "## Operadores Lógicos\n",
    "\n",
    "| Operador | Descripción 1 |\n",
    "| --- | --- |\n",
    "| not | Not |\n",
    "| AND | Y |\n",
    "| OR | O |"
   ]
  },
  {
   "cell_type": "code",
   "execution_count": 22,
   "metadata": {},
   "outputs": [
    {
     "data": {
      "text/plain": [
       "False"
      ]
     },
     "execution_count": 22,
     "metadata": {},
     "output_type": "execute_result"
    }
   ],
   "source": [
    "resultado = not(3*2+3>=4)and(3==3 or 5!=3)and True or False\n",
    "resultado"
   ]
  }
 ],
 "metadata": {
  "kernelspec": {
   "display_name": "Cursopythonuttt",
   "language": "python",
   "name": "python3"
  },
  "language_info": {
   "codemirror_mode": {
    "name": "ipython",
    "version": 3
   },
   "file_extension": ".py",
   "mimetype": "text/x-python",
   "name": "python",
   "nbconvert_exporter": "python",
   "pygments_lexer": "ipython3",
   "version": "3.12.4"
  }
 },
 "nbformat": 4,
 "nbformat_minor": 2
}
