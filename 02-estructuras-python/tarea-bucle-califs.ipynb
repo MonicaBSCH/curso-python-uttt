{
 "cells": [
  {
   "cell_type": "markdown",
   "metadata": {},
   "source": [
    "# Tarea\n",
    "### Calcula el promedio de \"n\" calificaciones y valida que el número sea mayor o igual a dos"
   ]
  },
  {
   "cell_type": "code",
   "execution_count": 8,
   "metadata": {},
   "outputs": [
    {
     "name": "stdout",
     "output_type": "stream",
     "text": [
      "Este programa calcula el promedio de n calificaciones y valida que el número sea mayor o igual a dos\n",
      "Debes introducir dos o más calificaciones\n"
     ]
    }
   ],
   "source": [
    "print('Este programa calcula el promedio de n calificaciones y valida que el número sea mayor o igual a dos')\n",
    "nombre = input(\"Introduce el nombre del alumno: \")\n",
    "n = int(input(\"¿Cuántas calificaciones vas a introducir? \"))\n",
    "if n>=2 :\n",
    "    califs=[]\n",
    "    i=1\n",
    "    while i<=n :\n",
    "        calif = float(input(f\"Introduce la calificación {i} :\"))\n",
    "        califs.append(calif)\n",
    "        i=i+1\n",
    "    \n",
    "    prom=sum(califs)/n\n",
    "    print(f'El nombre del alumno es: {nombre}')\n",
    "    print(f'Las calificaciones son: {califs}')\n",
    "    print(f'El promedio es: {prom}')\n",
    "else:\n",
    "    print('Debes introducir dos o más calificaciones')"
   ]
  }
 ],
 "metadata": {
  "kernelspec": {
   "display_name": "Cursopythonuttt",
   "language": "python",
   "name": "python3"
  },
  "language_info": {
   "codemirror_mode": {
    "name": "ipython",
    "version": 3
   },
   "file_extension": ".py",
   "mimetype": "text/x-python",
   "name": "python",
   "nbconvert_exporter": "python",
   "pygments_lexer": "ipython3",
   "version": "3.12.4"
  }
 },
 "nbformat": 4,
 "nbformat_minor": 2
}
